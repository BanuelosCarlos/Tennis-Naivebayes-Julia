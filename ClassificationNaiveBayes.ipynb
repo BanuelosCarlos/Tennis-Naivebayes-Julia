{
 "cells": [
  {
   "cell_type": "markdown",
   "metadata": {},
   "source": [
    "# Classification using Naive Bayes\n",
    "We load the packages we will use"
   ]
  },
  {
   "cell_type": "code",
   "execution_count": 11,
   "metadata": {},
   "outputs": [],
   "source": [
    "using CSV\n",
    "using DataFrames\n",
    "using MLBase\n",
    "using DelimitedFiles"
   ]
  },
  {
   "cell_type": "markdown",
   "metadata": {},
   "source": [
    "Loading the data"
   ]
  },
  {
   "cell_type": "code",
   "execution_count": 21,
   "metadata": {},
   "outputs": [
    {
     "data": {
      "text/plain": [
       "14-element Vector{Any}:\n",
       " \"sunny\"\n",
       " \"sunny\"\n",
       " \"overcast\"\n",
       " \"rainy\"\n",
       " \"rainy\"\n",
       " \"rainy\"\n",
       " \"overcast\"\n",
       " \"sunny\"\n",
       " \"sunny\"\n",
       " \"rainy\"\n",
       " \"sunny\"\n",
       " \"overcast\"\n",
       " \"overcast\"\n",
       " \"rainy\""
      ]
     },
     "metadata": {},
     "output_type": "display_data"
    }
   ],
   "source": [
    "DF = readdlm(\"tennis.csv\",',';skipstart = 1);"
   ]
  },
  {
   "cell_type": "markdown",
   "metadata": {},
   "source": [
    "Now wrangling the data"
   ]
  },
  {
   "cell_type": "code",
   "execution_count": 50,
   "metadata": {},
   "outputs": [
    {
     "data": {
      "text/plain": [
       "3"
      ]
     },
     "metadata": {},
     "output_type": "display_data"
    }
   ],
   "source": [
    "x1 = DF[:,1]\n",
    "x2 = DF[:,2]\n",
    "x3 = DF[:,3]\n",
    "x4 = DF[:,4]\n",
    "y = DF[:,5];\n",
    "#counting unique elements in each column\n",
    "unique_x1 = unique(x1)\n",
    "unique_x2 = unique(x2)\n",
    "unique_x3 = unique(x3)\n",
    "unique_x4 = unique(x4)\n",
    "\n",
    "unique_y = unique(y)\n",
    "\n",
    "#and count the Probability of playing tennis from the Data\n",
    "len_y = length(y)\n",
    "len_yes = count(x -> x == \"yes\", y)\n",
    "len_no = len_y .-len_yes\n",
    "\n",
    "prob_yes = len_yes/len_y \n",
    "prob_no = len_no/len_y;\n",
    "\n",
    "#we separate into two matrices related for each yes or no\n",
    "data_yes = DF[DF[:,5].==\"yes\",:]\n",
    "data_no = DF[DF[:,5].==\"no\",:]\n",
    "\n",
    "#we count features in data_yes\n",
    "\n",
    "len_sunny_yes = count(x -> x == unique_x1[1], data_yes)\n",
    "len_overcast_yes = count(x -> x == unique_x1[2], data_yes)\n",
    "len_rainy_yes = count(x -> x == unique_x1[3], data_yes)\n",
    "\n",
    "len_hot_yes = count(x -> x == unique_x2[1], data_yes)\n",
    "len_mild_yes = count(x -> x == unique_x2[2], data_yes)\n",
    "len_cool_yes = count(x -> x == unique_x2[3], data_yes)\n",
    "\n",
    "len_high_yes = count(x -> x == unique_x3[1], data_yes)\n",
    "len_normal_yes = count(x -> x == unique_x3[2], data_yes)\n",
    "\n",
    "len_false_yes = count(x -> x == unique_x4[1], data_yes)\n",
    "len_true_yes = count(x -> x == unique_x4[2], data_yes)\n",
    "\n",
    "#now the no\n",
    "\n",
    "len_sunny_no = count(x -> x == unique_x1[1], data_no)\n",
    "len_overcast_no = count(x -> x == unique_x1[2], data_no)\n",
    "len_rainy_no = count(x -> x == unique_x1[3], data_yes)\n",
    "\n",
    "len_hot_no = count(x -> x == unique_x2[1], data_no)\n",
    "len_mild_no = count(x -> x == unique_x2[2], data_no)\n",
    "len_cool_no = count(x -> x == unique_x2[3], data_no)\n",
    "\n",
    "len_high_no = count(x -> x == unique_x3[1], data_no)\n",
    "len_normal_no = count(x -> x == unique_x3[2], data_no)\n",
    "\n",
    "len_false_no = count(x -> x == unique_x4[1], data_no)\n",
    "len_true_no = count(x -> x == unique_x4[2], data_no)\n"
   ]
  },
  {
   "cell_type": "markdown",
   "metadata": {},
   "source": [
    "Noe we use the Naive Bayes Classifier using:\n",
    "$$P(yes|NewX)= \\frac{P(NewX|yes)P(yes)}{P(NewX)}$$ "
   ]
  },
  {
   "cell_type": "code",
   "execution_count": 51,
   "metadata": {},
   "outputs": [
    {
     "name": "stdout",
     "output_type": "stream",
     "text": [
      "p_yes_newXN = p_yes_newX / (p_yes_newX + p_no_newX) = 0.27027027027027023\n",
      "p_no_newXN = p_no_newX / (p_yes_newX + p_no_newX) = 0.7297297297297297"
     ]
    },
    {
     "data": {
      "text/plain": [
       "0.7297297297297297"
      ]
     },
     "metadata": {},
     "output_type": "display_data"
    },
    {
     "name": "stdout",
     "output_type": "stream",
     "text": [
      "\n"
     ]
    }
   ],
   "source": [
    "#New predicition \n",
    "#p_yes_newX = [\"sunny\",\"hot\"]\n",
    "\n",
    "p_yes_newX = \n",
    "    (len_sunny_yes / len_yes) *\n",
    "    (len_hot_yes / len_yes) *\n",
    "    prob_yes\n",
    "\n",
    "p_no_newX = \n",
    "    (len_sunny_no / len_no) *\n",
    "    (len_hot_no / len_no) *\n",
    "    prob_no\n",
    "\n",
    "#normalize probabilities\n",
    "\n",
    "@show p_yes_newXN = p_yes_newX / (p_yes_newX + p_no_newX)\n",
    "@show p_no_newXN = p_no_newX / (p_yes_newX + p_no_newX)"
   ]
  },
  {
   "cell_type": "markdown",
   "metadata": {},
   "source": [
    "New prediciton"
   ]
  },
  {
   "cell_type": "code",
   "execution_count": 55,
   "metadata": {},
   "outputs": [
    {
     "name": "stdout",
     "output_type": "stream",
     "text": [
      "p_yes_newXN = p_yes_newX / (p_yes_newX + p_no_newX) = 0.20458265139116202\n",
      "p_no_newXN = p_no_newX / (p_yes_newX + p_no_newX) = 0.795417348608838\n"
     ]
    },
    {
     "data": {
      "text/plain": [
       "0.795417348608838"
      ]
     },
     "metadata": {},
     "output_type": "display_data"
    }
   ],
   "source": [
    "#p_yes_new = [\"sunny\", \"cool\", \"high\", \"true\"]\n",
    "p_yes_newX = \n",
    "    (len_sunny_yes / len_yes) *\n",
    "    (len_cool_yes / len_yes) *\n",
    "    (len_high_yes / len_yes) *\n",
    "    (len_true_yes / len_yes) *\n",
    "    prob_yes\n",
    "\n",
    "p_no_newX = \n",
    "    (len_sunny_no / len_no) *\n",
    "    (len_cool_no / len_no) *\n",
    "    (len_high_no / len_no) *\n",
    "    (len_true_no / len_no) *\n",
    "    prob_no\n",
    "    \n",
    "@show p_yes_newXN = p_yes_newX / (p_yes_newX + p_no_newX)\n",
    "@show p_no_newXN = p_no_newX / (p_yes_newX + p_no_newX);\n",
    "\n",
    "#########################################################################\n",
    "##################Try to create some function for this###################\n",
    "#########################################################################"
   ]
  },
  {
   "cell_type": "markdown",
   "metadata": {},
   "source": [
    "#### Now with ScikitLearn using PyCall"
   ]
  }
 ],
 "metadata": {
  "kernelspec": {
   "display_name": "Julia 1.7.2",
   "language": "julia",
   "name": "julia-1.7"
  },
  "language_info": {
   "file_extension": ".jl",
   "mimetype": "application/julia",
   "name": "julia",
   "version": "1.7.2"
  },
  "orig_nbformat": 4,
  "vscode": {
   "interpreter": {
    "hash": "3494fd3ea893c1492ad56b6e4762abeb45077fb4b00eccd428c0cf091f9ba88c"
   }
  }
 },
 "nbformat": 4,
 "nbformat_minor": 2
}
